{
 "cells": [
  {
   "cell_type": "code",
   "execution_count": 0,
   "metadata": {
    "application/vnd.databricks.v1+cell": {
     "cellMetadata": {
      "byteLimit": 2048000,
      "rowLimit": 10000
     },
     "inputWidgets": {},
     "nuid": "be8ea94c-7c98-4b90-b725-fc7bb1785ce2",
     "showTitle": false,
     "tableResultSettingsMap": {},
     "title": ""
    }
   },
   "outputs": [],
   "source": [
    "df = spark.read.table('projeto_data_eng.01_bronze_layer.recebidos_parcelado_raw')\n",
    "display(df)"
   ]
  },
  {
   "cell_type": "code",
   "execution_count": 0,
   "metadata": {
    "application/vnd.databricks.v1+cell": {
     "cellMetadata": {
      "byteLimit": 2048000,
      "rowLimit": 10000
     },
     "inputWidgets": {},
     "nuid": "56b02dd2-022f-4804-917f-615a0ff0ceaa",
     "showTitle": false,
     "tableResultSettingsMap": {},
     "title": ""
    }
   },
   "outputs": [],
   "source": [
    "from pyspark.sql.functions import col, regexp_replace, count\n",
    "df = df.withColumn(\n",
    "    \"CPF_MASCARADO\",\n",
    "    regexp_replace(col(\"CGC_CPF\"), r\"\\d(?=\\d)\", \"X\"))"
   ]
  },
  {
   "cell_type": "code",
   "execution_count": 0,
   "metadata": {
    "application/vnd.databricks.v1+cell": {
     "cellMetadata": {
      "byteLimit": 2048000,
      "rowLimit": 10000
     },
     "inputWidgets": {},
     "nuid": "97847243-4989-4a99-853d-e9db7aee2b54",
     "showTitle": false,
     "tableResultSettingsMap": {},
     "title": ""
    }
   },
   "outputs": [],
   "source": [
    "df=df.drop(\n",
    "    \"DOCUMENTO\",\n",
    "    \"EMISSAO\",\n",
    "    \"CONTA\",\n",
    "    \"BANCO\",\n",
    "    \"AGENCIA\",\n",
    "    \"PERIODO\",\n",
    "    \"FILIAL\",\n",
    "    \"OBS\",\n",
    "    \"CAMPOX\",\n",
    "    \"BANDA1\",\n",
    "    \"BANDA2\",\n",
    "    \"BANDA3\",\n",
    "    \"TRANSMISSAO\",\n",
    "    \"SITUACAO\",\n",
    "    \"GEROU_TRANSMISSAO\",\n",
    "    \"RECEBEU_TRANSMISSAO\",\n",
    "    \"ALINEA\",\n",
    "    \"DEVOLUCAO\",\n",
    "    \"REAPRESENTOU\",\n",
    "    \"SEQ_ALINEA11\",\n",
    "    \"LOTE\",\n",
    "    \"DESCONTOS\",\n",
    "    \"JUROS\",\n",
    "    \"NOSSONUMERO\",\n",
    "    \"RESPONSAVEL\",\n",
    "    \"TOTAL\",\n",
    "    \"MULTA\",\n",
    "    \"DUPLICATA\",\n",
    "    \"ENCARGOS\",\n",
    "    \"LOJA\",\n",
    "    \"USUARIO\",\n",
    "    \"MODIFICADO\",\n",
    "    \"DATA_ENV_CART\",\n",
    "    \"DATA_RET_CART\",\n",
    "    \"DATA_ENV_SCPC\",\n",
    "    \"DATA_RET_SCPC\",\n",
    "    \"TERMINAL\",\n",
    "    \"CHEQUE\",\n",
    "    \"TITULO\",\n",
    "    \"GRUPO\",\n",
    "    \"NOME_GRUPO\",\n",
    "    \"MOTIVO\",\n",
    "    \"REMESSA\",\n",
    "    \"NUM_BANCO\",\n",
    "    \"TIPO_COBRANCA\",\n",
    "    \"ORDEM\",\n",
    "    \"LOCAL\",\n",
    "    \"NOME_LOCAL\",\n",
    "    \"CALC_JUROS\",\n",
    "    \"COBRADORA\",\n",
    "    \"COBRANCA\",\n",
    "    \"DATA_REMESSA\",\n",
    "    \"SITUACAO_REMESSA\",\n",
    "    \"NSU_TRANSACAO\",\n",
    "    \"CONTROLE_CARTAO\",\n",
    "    \"DESCONTO_BOLETO\",\n",
    "    \"ID_PIX\",\n",
    "    \"DT_AXON\",\n",
    "    \"AXON_ID\",\n",
    "    \"CODIGO_TUSS\",\n",
    "    \"ID_PAGO_LIVRE\",\n",
    "    \"PRAZO\",\n",
    "    \"TIPO_DOC\",\n",
    "    \"CHEQUE_BAIXA\",\n",
    "    \"VENCTO_ORIG\",\n",
    "    \"EMITENTE\",\n",
    "    \"CGC_CPF\",\n",
    "    \"BAIXA\",\n",
    "    \"VENCTO\",\n",
    "    \"VALOR_ORIG\"\n",
    ")"
   ]
  },
  {
   "cell_type": "code",
   "execution_count": 0,
   "metadata": {
    "application/vnd.databricks.v1+cell": {
     "cellMetadata": {
      "byteLimit": 2048000,
      "rowLimit": 10000
     },
     "inputWidgets": {},
     "nuid": "7ba865f2-8883-4350-ae79-49ef7c1d0b30",
     "showTitle": false,
     "tableResultSettingsMap": {},
     "title": ""
    }
   },
   "outputs": [],
   "source": [
    "df = (\n",
    "    df.withColumnRenamed('VALOR', 'VALOR_PARCELA')\n",
    "      .withColumnRenamed('PARCELA', 'QTDE_PARCELAS')\n",
    "      .withColumnRenamed('VALOR_VENDA', 'TOTAL_VENDA')\n",
    "      .withColumnRenamed(\"CPF_MASCARADO\", \"CPF\"))"
   ]
  },
  {
   "cell_type": "code",
   "execution_count": 0,
   "metadata": {
    "application/vnd.databricks.v1+cell": {
     "cellMetadata": {
      "byteLimit": 2048000,
      "rowLimit": 10000
     },
     "inputWidgets": {},
     "nuid": "76301fb3-11d0-47f5-ae30-4552889ff947",
     "showTitle": false,
     "tableResultSettingsMap": {},
     "title": ""
    }
   },
   "outputs": [],
   "source": [
    "for coluna in df.columns:\n",
    "\tcount_nulos = df.filter(df[coluna].isNull()).count()\n",
    "\tprint(coluna,count_nulos)"
   ]
  },
  {
   "cell_type": "code",
   "execution_count": 0,
   "metadata": {
    "application/vnd.databricks.v1+cell": {
     "cellMetadata": {
      "byteLimit": 2048000,
      "rowLimit": 10000
     },
     "inputWidgets": {},
     "nuid": "03160c99-aae8-4f57-9a14-b9fd844ad65e",
     "showTitle": false,
     "tableResultSettingsMap": {},
     "title": ""
    }
   },
   "outputs": [],
   "source": [
    "ordem_colunas= ['CPF', 'TOTAL_VENDA','VALOR_PARCELA','QTDE_PARCELAS']\n",
    "df= df.select(*ordem_colunas)\n",
    "display(df)"
   ]
  },
  {
   "cell_type": "code",
   "execution_count": 0,
   "metadata": {
    "application/vnd.databricks.v1+cell": {
     "cellMetadata": {
      "byteLimit": 2048000,
      "rowLimit": 10000
     },
     "inputWidgets": {},
     "nuid": "3b3c1cbd-1f67-4eb9-96af-8f0d83c42376",
     "showTitle": false,
     "tableResultSettingsMap": {},
     "title": ""
    }
   },
   "outputs": [],
   "source": [
    "df.write.format(\"delta\").mode(\"overwrite\").saveAsTable(\"projeto_data_eng.02_silver_layer.recebidos_parcelado_raw\")"
   ]
  }
 ],
 "metadata": {
  "application/vnd.databricks.v1+notebook": {
   "computePreferences": null,
   "dashboards": [],
   "environmentMetadata": {
    "base_environment": "",
    "environment_version": "4"
   },
   "inputWidgetPreferences": null,
   "language": "python",
   "notebookMetadata": {
    "pythonIndentUnit": 4
   },
   "notebookName": "bronze_to_silver_recebidos_parcelado",
   "widgets": {}
  },
  "language_info": {
   "name": "python"
  }
 },
 "nbformat": 4,
 "nbformat_minor": 0
}
