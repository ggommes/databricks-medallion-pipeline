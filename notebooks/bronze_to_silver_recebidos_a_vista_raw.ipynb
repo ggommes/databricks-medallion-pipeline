{
 "cells": [
  {
   "cell_type": "code",
   "execution_count": 0,
   "metadata": {
    "application/vnd.databricks.v1+cell": {
     "cellMetadata": {
      "byteLimit": 2048000,
      "rowLimit": 10000
     },
     "inputWidgets": {},
     "nuid": "87311b71-0328-4d03-8079-6af06716192d",
     "showTitle": false,
     "tableResultSettingsMap": {},
     "title": ""
    }
   },
   "outputs": [],
   "source": [
    "df= spark.read.table('projeto_data_eng.01_bronze_layer.recebidos_a_vista_raw')\n",
    "display(df)"
   ]
  },
  {
   "cell_type": "code",
   "execution_count": 0,
   "metadata": {
    "application/vnd.databricks.v1+cell": {
     "cellMetadata": {
      "byteLimit": 2048000,
      "rowLimit": 10000
     },
     "inputWidgets": {},
     "nuid": "3e4fd44b-c8cc-415f-9097-4e85e4b9e332",
     "showTitle": false,
     "tableResultSettingsMap": {},
     "title": ""
    }
   },
   "outputs": [],
   "source": [
    "from pyspark.sql.functions import col, regexp_replace, count\n",
    "\n",
    "df = df.withColumn(\n",
    "    \"CPF_MASCARADO\",\n",
    "    regexp_replace(col(\"CGC_CPF\"), r\"\\d(?=\\d)\", \"X\"))"
   ]
  },
  {
   "cell_type": "code",
   "execution_count": 0,
   "metadata": {
    "application/vnd.databricks.v1+cell": {
     "cellMetadata": {
      "byteLimit": 2048000,
      "rowLimit": 10000
     },
     "inputWidgets": {},
     "nuid": "a1cf8e64-1159-412d-8692-fa43a2889a90",
     "showTitle": false,
     "tableResultSettingsMap": {},
     "title": ""
    }
   },
   "outputs": [],
   "source": [
    "df=df.drop(\"CGC_CPF\",\"EOUS\",\"PROTOCOLO_USO_NFE\",\"CUPOM_CRESCEVENDAS\",\"TIPO\",\"DATA\",\"DIGITOU\",\"RESPONSAVEL\",\"RESPONSAVEL\",\"DESCONTOS\",\"ACRESCIMOS\",\"FRETES\",\"SEGUROS\",\"OUTRAS\",\"ISENTAS\",\"BASEICMS\",\"PERC_ICMS\",\"PERC_ICMS\",\"VRICMS\",\"ICMS_ANT\",\"BASEIPI\",\"PERC_IPI\",\"VRIPI\",\"PERC_COMISSAO\",\"CODFISCAL\",\"UF\",\"OBS\",\"CAMPOX\",\"DOC_FINAL\",\"CRED_ICMS\",\"CRED_IPI\",\"PERIODO\",\"VENCTO\",\"BAIXA\",\"PERIODO_BAIXA\",\"TRANSMISSAO\",\"DESCARGA\",\"FILIAL\",\"TEM_PIS_COFINS\",\"PIS\",\"COFINS\",\"ICMS_PROPRIO\",\"ICMS_SUBST\",\"OBS2\",\"HORARIO\",\"TRANSPORTADOR\",\"OBS3\",\"OBS4\",\"RESPONSAVEL2\",\"QTDE_PESO1\",\"QTDE_PESO2\",\"QTDE_PESO3\",\"QTDE_PESO4\",\"QTDE_PESO5\",\"TABELA\",\"LOJA\",\"USUARIO\",\"MODIFICADO\",\"TERMINAL\",\"FORMA_PGTO\",\"TIPO_DOC\",\"CFOP\",\"CST\",\"OBS_CONT\",\"NUM_NFE\",\"PROTOCOLO_USO_N  FE\",\"CHAVE_ACESSO_NFE\",\"RESP_ODONTOGRAMA\",\"PROD_MEDICINA\",\"ID_DOCUMENTO\",\"CUPOM\",\"CRESCEVENDAS\",\"DATA_ENVIO_VENDA\",\"VALOR_DESCONTO_VENDA\",\"VR_APROVADO_DRCASH\")\n",
    "display(df)"
   ]
  },
  {
   "cell_type": "code",
   "execution_count": 0,
   "metadata": {
    "application/vnd.databricks.v1+cell": {
     "cellMetadata": {
      "byteLimit": 2048000,
      "rowLimit": 10000
     },
     "inputWidgets": {},
     "nuid": "25066139-2f69-4ac8-94a9-c085767776ef",
     "showTitle": false,
     "tableResultSettingsMap": {},
     "title": ""
    }
   },
   "outputs": [],
   "source": [
    "df= (df.withColumnRenamed(\"DOCUMENTO\",\"ID_VENDA\")\n",
    "      .withColumnRenamed(\"EMISSAO\",\"DATA_VENDA\")\n",
    "      .withColumnRenamed(\"VRBRUTO\",\"VR_BRUTO\")\n",
    "      .withColumnRenamed(\"VRLIQUIDO\",\"VR_LIQUIDO\")\n",
    "      .withColumnRenamed(\"CPF_MASCARADO\",\"CPF\")\n",
    ")\n",
    "display(df)"
   ]
  },
  {
   "cell_type": "code",
   "execution_count": 0,
   "metadata": {
    "application/vnd.databricks.v1+cell": {
     "cellMetadata": {
      "byteLimit": 2048000,
      "rowLimit": 10000
     },
     "inputWidgets": {},
     "nuid": "4a885dc0-bf73-416c-87b3-9de13ed8766a",
     "showTitle": false,
     "tableResultSettingsMap": {},
     "title": ""
    }
   },
   "outputs": [],
   "source": [
    "ordem_colunas=[\"CPF\",\"ID_VENDA\",\"DATA_VENDA\",\"VR_BRUTO\",\"VR_LIQUIDO\"]\n",
    "df=df.select(*ordem_colunas)\n",
    "display(df)"
   ]
  },
  {
   "cell_type": "code",
   "execution_count": 0,
   "metadata": {
    "application/vnd.databricks.v1+cell": {
     "cellMetadata": {
      "byteLimit": 2048000,
      "rowLimit": 10000
     },
     "inputWidgets": {},
     "nuid": "b1386f79-c3d3-405c-b250-cf1d98839cb5",
     "showTitle": false,
     "tableResultSettingsMap": {},
     "title": ""
    }
   },
   "outputs": [],
   "source": [
    "df.write.mode(\"overwrite\").saveAsTable('projeto_data_eng.02_silver_layer.recebidos_a_vista')"
   ]
  },
  {
   "cell_type": "code",
   "execution_count": 0,
   "metadata": {
    "application/vnd.databricks.v1+cell": {
     "cellMetadata": {
      "byteLimit": 2048000,
      "rowLimit": 10000
     },
     "inputWidgets": {},
     "nuid": "ab399096-f5b7-4ffc-a312-feafb7a04ee1",
     "showTitle": false,
     "tableResultSettingsMap": {},
     "title": ""
    }
   },
   "outputs": [],
   "source": [
    "df= spark.read.table('projeto_data_eng.02_silver_layer.recebidos_a_vista')\n",
    "display(df)"
   ]
  }
 ],
 "metadata": {
  "application/vnd.databricks.v1+notebook": {
   "computePreferences": null,
   "dashboards": [],
   "environmentMetadata": {
    "base_environment": "",
    "environment_version": "4"
   },
   "inputWidgetPreferences": null,
   "language": "python",
   "notebookMetadata": {
    "pythonIndentUnit": 4
   },
   "notebookName": "bronze_to_silver_recebidos_a_vista_raw",
   "widgets": {}
  },
  "language_info": {
   "name": "python"
  }
 },
 "nbformat": 4,
 "nbformat_minor": 0
}
