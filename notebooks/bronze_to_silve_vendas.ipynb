{
 "cells": [
  {
   "cell_type": "code",
   "execution_count": 0,
   "metadata": {
    "application/vnd.databricks.v1+cell": {
     "cellMetadata": {
      "byteLimit": 2048000,
      "implicitDf": true,
      "rowLimit": 10000
     },
     "inputWidgets": {},
     "nuid": "6e700802-b831-479b-918d-0642715ffd7c",
     "showTitle": false,
     "tableResultSettingsMap": {},
     "title": ""
    }
   },
   "outputs": [],
   "source": [
    "df = spark.read.table('projeto_data_eng.01_bronze_layer.vendas_raw')\n",
    "display(df)"
   ]
  },
  {
   "cell_type": "code",
   "execution_count": 0,
   "metadata": {
    "application/vnd.databricks.v1+cell": {
     "cellMetadata": {
      "byteLimit": 2048000,
      "rowLimit": 10000
     },
     "inputWidgets": {},
     "nuid": "d1251891-9c10-425a-bd60-57c5ad1215cf",
     "showTitle": false,
     "tableResultSettingsMap": {},
     "title": ""
    }
   },
   "outputs": [],
   "source": [
    "from pyspark.sql.functions import col, regexp_replace, count\n",
    "df = df.withColumn(\n",
    "    \"CPF_MASCARADO\",\n",
    "    regexp_replace(col(\"CGC_CPF\"), r\"\\d(?=\\d)\", \"X\"))\n",
    "  "
   ]
  },
  {
   "cell_type": "code",
   "execution_count": 0,
   "metadata": {
    "application/vnd.databricks.v1+cell": {
     "cellMetadata": {
      "byteLimit": 2048000,
      "rowLimit": 10000
     },
     "inputWidgets": {},
     "nuid": "76af41c4-507d-4e89-8476-c43455f984e5",
     "showTitle": false,
     "tableResultSettingsMap": {},
     "title": ""
    }
   },
   "outputs": [],
   "source": [
    "df=df.drop(\n",
    "    \"CGC_CPF\",\n",
    "    \"VENCTO\",\n",
    "    \"CAMPOX\",\n",
    "    \"TRANSMISSAO\",\n",
    "    \"OBS\",\n",
    "    \"TIPO_DOC\",\n",
    "    \"DUPLICATA\",\n",
    "    \"PARCELA\",\n",
    "    \"RESPONSAVEL\",\n",
    "    \"CONTA_CORRENTE\",\n",
    "    \"CONTA_DOCUMENTO\",\n",
    "    \"LOJA\",\n",
    "    \"USUARIO\",\n",
    "    \"MODIFICADO\",\n",
    "    \"TERMINAL\",\n",
    "    \"VR_CALCULADO\",\n",
    "    \"MOTIVO\",\n",
    "    \"GRUPO\",\n",
    "    \"NOME_GRUPO\",\n",
    "    \"NUM_BANCO\",\n",
    "    \"COD_CAIXA\",\n",
    "    \"DATA_REMESSA\",\n",
    "    \"AGUARDANDO_VINCULO\",\n",
    "    \"DT_AXON\",\n",
    "    \"AXON_ID\",\n",
    "    \"ID_BAIXAPLANOS\"\n",
    "    )\n"
   ]
  },
  {
   "cell_type": "code",
   "execution_count": 0,
   "metadata": {
    "application/vnd.databricks.v1+cell": {
     "cellMetadata": {
      "byteLimit": 2048000,
      "rowLimit": 10000
     },
     "inputWidgets": {},
     "nuid": "9c5f2182-fa9a-4df8-ab45-673302ea0c02",
     "showTitle": false,
     "tableResultSettingsMap": {},
     "title": ""
    }
   },
   "outputs": [],
   "source": [
    "display(df)"
   ]
  },
  {
   "cell_type": "code",
   "execution_count": 0,
   "metadata": {
    "application/vnd.databricks.v1+cell": {
     "cellMetadata": {
      "byteLimit": 2048000,
      "rowLimit": 10000
     },
     "inputWidgets": {},
     "nuid": "f78081b7-f7a6-455c-b4a0-009a0944ff0a",
     "showTitle": false,
     "tableResultSettingsMap": {},
     "title": ""
    }
   },
   "outputs": [],
   "source": [
    "df = (\n",
    "    df.withColumnRenamed('LANCTO', 'ID_VENDA')\n",
    "      .withColumnRenamed('DOCUMENTO', 'ID_PARCELAS')\n",
    "      .withColumnRenamed('VR_PARCELA', 'VALOR_PARCELA')\n",
    "      .withColumnRenamed(\"CPF_MASCARADO\", \"CPF\"))"
   ]
  },
  {
   "cell_type": "code",
   "execution_count": 0,
   "metadata": {
    "application/vnd.databricks.v1+cell": {
     "cellMetadata": {
      "byteLimit": 2048000,
      "rowLimit": 10000
     },
     "inputWidgets": {},
     "nuid": "a5763adb-02d0-422a-ae9d-1767a5da759a",
     "showTitle": false,
     "tableResultSettingsMap": {},
     "title": ""
    }
   },
   "outputs": [],
   "source": [
    "for coluna in df.columns:\n",
    "\tprint(coluna, df.filter(df[coluna].isNull()).count())"
   ]
  },
  {
   "cell_type": "code",
   "execution_count": 0,
   "metadata": {
    "application/vnd.databricks.v1+cell": {
     "cellMetadata": {
      "byteLimit": 2048000,
      "rowLimit": 10000
     },
     "inputWidgets": {},
     "nuid": "ad6e45c7-8f8d-4338-8323-550932de07ff",
     "showTitle": false,
     "tableResultSettingsMap": {},
     "title": ""
    }
   },
   "outputs": [],
   "source": [
    "ordem_colunas = [\n",
    "    'CPF',\n",
    "    'ID_VENDA',\n",
    "    'ID_PARCELAS',\n",
    "    'VALOR',\n",
    "    'VALOR_PARCELA'\n",
    "]\n",
    "df = df.select(*ordem_colunas)\n",
    "display(df)"
   ]
  },
  {
   "cell_type": "code",
   "execution_count": 0,
   "metadata": {
    "application/vnd.databricks.v1+cell": {
     "cellMetadata": {},
     "inputWidgets": {},
     "nuid": "791b9b18-6768-408f-a694-9c9041a0bd5a",
     "showTitle": false,
     "tableResultSettingsMap": {},
     "title": ""
    }
   },
   "outputs": [],
   "source": [
    "df.write.format(\"delta\").mode(\"overwrite\").saveAsTable(\"projeto_data_eng.02_silver_layer.vendas\")"
   ]
  }
 ],
 "metadata": {
  "application/vnd.databricks.v1+notebook": {
   "computePreferences": null,
   "dashboards": [],
   "environmentMetadata": {
    "base_environment": "",
    "environment_version": "4"
   },
   "inputWidgetPreferences": null,
   "language": "python",
   "notebookMetadata": {
    "mostRecentlyExecutedCommandWithImplicitDF": {
     "commandId": 8674848526676466,
     "dataframes": [
      "_sqldf"
     ]
    },
    "pythonIndentUnit": 4
   },
   "notebookName": "bronze_to_silve_vendas",
   "widgets": {}
  },
  "language_info": {
   "name": "python"
  }
 },
 "nbformat": 4,
 "nbformat_minor": 0
}
