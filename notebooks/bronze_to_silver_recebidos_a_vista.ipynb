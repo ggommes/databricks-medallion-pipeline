{
 "cells": [
  {
   "cell_type": "code",
   "execution_count": 0,
   "metadata": {
    "application/vnd.databricks.v1+cell": {
     "cellMetadata": {
      "byteLimit": 2048000,
      "rowLimit": 10000
     },
     "inputWidgets": {},
     "nuid": "8b19baad-b24a-47b4-ae7d-b11062f6b098",
     "showTitle": false,
     "tableResultSettingsMap": {},
     "title": ""
    }
   },
   "outputs": [],
   "source": [
    "df = spark.read.table(\"projeto_data_eng.01_bronze_layer.recebidos_a_vista_raw\")\n",
    "display(df)"
   ]
  },
  {
   "cell_type": "code",
   "execution_count": 0,
   "metadata": {
    "application/vnd.databricks.v1+cell": {
     "cellMetadata": {
      "byteLimit": 2048000,
      "rowLimit": 10000
     },
     "inputWidgets": {},
     "nuid": "6554222a-19f2-429f-9b1a-c52c0a10bd8f",
     "showTitle": false,
     "tableResultSettingsMap": {},
     "title": ""
    }
   },
   "outputs": [],
   "source": [
    "from pyspark.sql.functions import col, regexp_replace, count\n",
    "df = df.withColumn(\n",
    "    \"CPF_MASCARADO\",\n",
    "    regexp_replace(col(\"CGC_CPF\"), r\"\\d(?=\\d)\", \"X\")\n",
    ")"
   ]
  },
  {
   "cell_type": "code",
   "execution_count": 0,
   "metadata": {
    "application/vnd.databricks.v1+cell": {
     "cellMetadata": {
      "byteLimit": 2048000,
      "rowLimit": 10000
     },
     "inputWidgets": {},
     "nuid": "01e62fd2-a2ff-49ca-af7b-5431eefd037b",
     "showTitle": false,
     "tableResultSettingsMap": {
      "0": {
       "dataGridStateBlob": "{\"version\":1,\"tableState\":{\"columnPinning\":{\"left\":[\"#row_number#\"],\"right\":[]},\"columnSizing\":{},\"columnVisibility\":{}},\"settings\":{\"columns\":{}},\"syncTimestamp\":1761934078449}",
       "filterBlob": null,
       "queryPlanFiltersBlob": null,
       "tableResultIndex": 0
      }
     },
     "title": ""
    }
   },
   "outputs": [],
   "source": [
    "df= df.drop(\n",
    "    \"CGC_CPF\",\n",
    "    \"BAIXA\",\n",
    "    \"VENCTO\",\n",
    "    \"TIPO\",\n",
    "    \"EOUS\",\n",
    "    \"DIGITOU\",\n",
    "    \"RESPONSAVEL\",\n",
    "    \"DESCONTOS\",\n",
    "    \"ACRESCIMOS\",\n",
    "    \"FRETES\",\n",
    "    \"SEGUROS\",\n",
    "    \"OUTRAS\",\n",
    "    \"ISENTAS\",\n",
    "    \"BASEICMS\",\n",
    "    \"PERC_ICMS\",\n",
    "    \"VRICMS\",\n",
    "    \"ICMS_ANT\",\n",
    "    \"BASEIPI\",\n",
    "    \"PERC_IPI\",\n",
    "    \"VRIPI\",\n",
    "    \"VRLIQUIDO\",\n",
    "    \"PERC_COMISSAO\",\n",
    "    \"CODFISCAL\",\n",
    "    \"UF\",\n",
    "    \"OBS\",\n",
    "    \"CAMPOX\",\n",
    "    \"DOC_FINAL\",\n",
    "    \"CRED_ICMS\",\n",
    "    \"CRED_IPI\",\n",
    "    \"PERIODO\",\n",
    "    \"PERIODO_BAIXA\",\n",
    "    \"TRANSMISSAO\",\n",
    "    \"DESCARGA\",\n",
    "    \"FILIAL\",\n",
    "    \"TEM_PIS_COFINS\",\n",
    "    \"PIS\",\n",
    "    \"COFINS\",\n",
    "    \"ICMS_PROPRIO\",\n",
    "    \"ICMS_SUBST\",\n",
    "    \"OBS2\",\n",
    "    \"HORARIO\",\n",
    "    \"TRANSPORTADOR\",\n",
    "    \"OBS3\",\n",
    "    \"OBS4\",\n",
    "    \"RESPONSAVEL2\",\n",
    "    \"QTDE_PESO1\",\n",
    "    \"QTDE_PESO2\",\n",
    "    \"QTDE_PESO3\",\n",
    "    \"QTDE_PESO4\",\n",
    "    \"QTDE_PESO5\",\n",
    "    \"TABELA\",\n",
    "    \"LOJA\",\n",
    "    \"USUARIO\",\n",
    "    \"MODIFICADO\",\n",
    "    \"TERMINAL\",\n",
    "    \"FORMA_PGTO\",\n",
    "    \"TIPO_DOC\",\n",
    "    \"CFOP\",\n",
    "    \"CST\",\n",
    "    \"OBS_CONT\",\n",
    "    \"NUM_NFE\",\n",
    "    \"PROTOCOLO_USO_NFE\",\n",
    "    \"CHAVE_ACESSO_NFE\",\n",
    "    \"RESP_ODONTOGRAMA\",\n",
    "    \"PROD_MEDICINA\",\n",
    "    \"ID_DOCUMENTO\",\n",
    "    \"CUPOM_CRESCEVENDAS\",\n",
    "    \"DATA_ENVIO_VENDA\",\n",
    "    \"VALOR_DESCONTO_VENDA\",\n",
    "    \"VR_APROVADO_DRCASH\",\n",
    ")\n",
    "display(df)"
   ]
  },
  {
   "cell_type": "code",
   "execution_count": 0,
   "metadata": {
    "application/vnd.databricks.v1+cell": {
     "cellMetadata": {
      "byteLimit": 2048000,
      "rowLimit": 10000
     },
     "inputWidgets": {},
     "nuid": "ded77926-7f61-42f5-afff-d84125e20e5e",
     "showTitle": false,
     "tableResultSettingsMap": {},
     "title": ""
    }
   },
   "outputs": [],
   "source": [
    "df = (\n",
    "    df.withColumnRenamed('DOCUMENTO', 'ID_VENDA')\n",
    "      .withColumnRenamed('VRBRUTO', 'VALOR_VENDA')\n",
    "      .withColumnRenamed('CPF_MASCARADO', 'CPF')\n",
    ")"
   ]
  },
  {
   "cell_type": "code",
   "execution_count": 0,
   "metadata": {
    "application/vnd.databricks.v1+cell": {
     "cellMetadata": {
      "byteLimit": 2048000,
      "rowLimit": 10000
     },
     "inputWidgets": {},
     "nuid": "4e5cd1b1-676a-4c32-b68a-79724e9d36fe",
     "showTitle": false,
     "tableResultSettingsMap": {},
     "title": ""
    }
   },
   "outputs": [],
   "source": [
    "for coluna in df.columns:\n",
    "\tcount_nulos = df.filter(df[coluna].isNull()).count()\n",
    "\tprint(coluna,count_nulos)"
   ]
  },
  {
   "cell_type": "code",
   "execution_count": 0,
   "metadata": {
    "application/vnd.databricks.v1+cell": {
     "cellMetadata": {
      "byteLimit": 2048000,
      "rowLimit": 10000
     },
     "inputWidgets": {},
     "nuid": "b29073e3-42d1-4cb6-8a89-b14071e81f9e",
     "showTitle": false,
     "tableResultSettingsMap": {},
     "title": ""
    }
   },
   "outputs": [],
   "source": [
    "ordem_colunas= ['ID_VENDA','CPF', 'VALOR_VENDA','EMISSAO']\n",
    "df= df.select(*ordem_colunas)\n",
    "display(df)"
   ]
  },
  {
   "cell_type": "code",
   "execution_count": 0,
   "metadata": {
    "application/vnd.databricks.v1+cell": {
     "cellMetadata": {
      "byteLimit": 2048000,
      "rowLimit": 10000
     },
     "inputWidgets": {},
     "nuid": "f57f6da7-203e-4019-acbb-86ae83eaa62e",
     "showTitle": false,
     "tableResultSettingsMap": {},
     "title": ""
    }
   },
   "outputs": [],
   "source": [
    "df.write.format(\"delta\").mode(\"overwrite\").saveAsTable(\"projeto_data_eng.02_silver_layer.recebidos_a_vista_raw\")"
   ]
  }
 ],
 "metadata": {
  "application/vnd.databricks.v1+notebook": {
   "computePreferences": null,
   "dashboards": [],
   "environmentMetadata": {
    "base_environment": "",
    "environment_version": "4"
   },
   "inputWidgetPreferences": null,
   "language": "python",
   "notebookMetadata": {
    "pythonIndentUnit": 4
   },
   "notebookName": "bronze_to_silver_recebidos_a_vista",
   "widgets": {}
  },
  "language_info": {
   "name": "python"
  }
 },
 "nbformat": 4,
 "nbformat_minor": 0
}
