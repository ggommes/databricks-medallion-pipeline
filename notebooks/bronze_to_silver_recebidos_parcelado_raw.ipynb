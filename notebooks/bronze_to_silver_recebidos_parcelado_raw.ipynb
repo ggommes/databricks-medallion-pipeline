{
 "cells": [
  {
   "cell_type": "code",
   "execution_count": 0,
   "metadata": {
    "application/vnd.databricks.v1+cell": {
     "cellMetadata": {
      "byteLimit": 2048000,
      "rowLimit": 10000
     },
     "inputWidgets": {},
     "nuid": "523b5d20-0c39-46d2-aaf5-11ecb1774457",
     "showTitle": false,
     "tableResultSettingsMap": {},
     "title": ""
    }
   },
   "outputs": [],
   "source": [
    "df= spark.read.table('projeto_data_eng.01_bronze_layer.recebidos_parcelado_raw')\n",
    "display(df)"
   ]
  },
  {
   "cell_type": "code",
   "execution_count": 0,
   "metadata": {
    "application/vnd.databricks.v1+cell": {
     "cellMetadata": {
      "byteLimit": 2048000,
      "rowLimit": 10000
     },
     "inputWidgets": {},
     "nuid": "3ebcc1ff-e5c7-45c1-857a-f5d789a5a4be",
     "showTitle": false,
     "tableResultSettingsMap": {},
     "title": ""
    }
   },
   "outputs": [],
   "source": [
    "from pyspark.sql.functions import col, regexp_replace, count\n",
    "\n",
    "df = df.withColumn(\n",
    "    \"CPF_MASCARADO\",\n",
    "    regexp_replace(col(\"CGC_CPF\"), r\"\\d(?=\\d)\", \"X\"))\n",
    "display(df)"
   ]
  },
  {
   "cell_type": "code",
   "execution_count": 0,
   "metadata": {
    "application/vnd.databricks.v1+cell": {
     "cellMetadata": {
      "byteLimit": 2048000,
      "rowLimit": 10000
     },
     "inputWidgets": {},
     "nuid": "dc6b3f22-e5c6-4759-91c3-23737d2d07ed",
     "showTitle": false,
     "tableResultSettingsMap": {
      "0": {
       "dataGridStateBlob": "{\"version\":1,\"tableState\":{\"columnPinning\":{\"left\":[\"#row_number#\"],\"right\":[]},\"columnSizing\":{},\"columnVisibility\":{}},\"settings\":{\"columns\":{}},\"syncTimestamp\":1761686934807}",
       "filterBlob": null,
       "queryPlanFiltersBlob": null,
       "tableResultIndex": 0
      }
     },
     "title": ""
    }
   },
   "outputs": [],
   "source": [
    "df = df.drop(\"CGC_CPF\",\"PRAZO\",\"EMISSAO\",\"MULTA\",\"DUPLICATA\",\"ENCARGOS\",\"LOJA\",\"USUARIO\",\"MODIFICADO\",\"DATA_ENV_CART\",\"DATA_RET_CART\",\"DATA_ENV_SCPC\",\"DATA_RET_SCPC\",\"TERMINAL\",\"VENCTO_ORIG\", \"EMITENTE\",\"VENCTO\", \"CONTA\", \"BANCO\", \"AGENCIA\", \"TIPO_DOC\", \"PERIODO\", \"FILIAL\", \"OBS\", \"CAMPOX\", \"BANDA1\", \"BANDA2\", \"BANDA3\", \"SITUACAO\", \"GEROU_TRANSMISSAO\", \"RECEBEU_TRANSMISSAO\", \"ALINEA\", \"DEVOLUCAO\", \"REAPRESENTOU\", \"SEQ_ALINEA11\", \"LOTE\", \"BAIXA\", \"CHEQUE_BAIXA\", \"DESCONTOS\", \"JUROS\", \"NOSSONUMERO\", \"RESPONSAVEL\", \"TOTAL\", \"PARCELA\", \"VALOR_VENDA\", \"VALOR_ORIG\", \"CHEQUE\", \"TITULO\", \"GRUPO\", \"NOME_GRUPO\", \"MOTIVO\", \"REMESSA\", \"NUM_BANCO\", \"TIPO_COBRANCA\", \"ORDEM\", \"LOCAL\", \"NOME_LOCAL\", \"CALC_JUROS\", \"COBRADORA\", \"COBRANCA\", \"DATA_REMESSA\", \"SITUACAO_REMESSA\", \"NSU_TRANSACAO\", \"CONTROLE_CARTAO\", \"DESCONTO_BOLETO\", \"ID_PIX\", \"DT_AXON\", \"AXON_ID\", \"CODIGO_TUSS\", \"ID_PAGO_LIVRE\")\n",
    "display(df)"
   ]
  },
  {
   "cell_type": "code",
   "execution_count": 0,
   "metadata": {
    "application/vnd.databricks.v1+cell": {
     "cellMetadata": {
      "byteLimit": 2048000,
      "rowLimit": 10000
     },
     "inputWidgets": {},
     "nuid": "63b40260-87b7-4315-9e4a-807c012db82e",
     "showTitle": false,
     "tableResultSettingsMap": {},
     "title": ""
    }
   },
   "outputs": [],
   "source": [
    "df=(\n",
    "    df.withColumnRenamed(\"DOCUMENTO\",\"ID_VENDA\")\n",
    "     .withColumnRenamed(\"TRANSMISSAO\",\"EMISSAO\")\n",
    "     .withColumnRenamed(\"CPF_MASCARADO\",\"CPF\")\n",
    ")\n",
    "display(df)"
   ]
  },
  {
   "cell_type": "code",
   "execution_count": 0,
   "metadata": {
    "application/vnd.databricks.v1+cell": {
     "cellMetadata": {
      "byteLimit": 2048000,
      "rowLimit": 10000
     },
     "inputWidgets": {},
     "nuid": "a3fb5142-bcdc-485a-bdf3-fa89cc6e9754",
     "showTitle": false,
     "tableResultSettingsMap": {},
     "title": ""
    }
   },
   "outputs": [],
   "source": [
    "ordem_colunas = [\"CPF\",\"ID_VENDA\",\"VALOR\",\"EMISSAO\"]\n",
    "df = df.select(*ordem_colunas)"
   ]
  },
  {
   "cell_type": "code",
   "execution_count": 0,
   "metadata": {
    "application/vnd.databricks.v1+cell": {
     "cellMetadata": {
      "byteLimit": 2048000,
      "rowLimit": 10000
     },
     "inputWidgets": {},
     "nuid": "8e4bcaa2-101e-4ec1-a57b-4029d66f07fd",
     "showTitle": false,
     "tableResultSettingsMap": {},
     "title": ""
    }
   },
   "outputs": [],
   "source": [
    "display(df)"
   ]
  },
  {
   "cell_type": "code",
   "execution_count": 0,
   "metadata": {
    "application/vnd.databricks.v1+cell": {
     "cellMetadata": {
      "byteLimit": 2048000,
      "rowLimit": 10000
     },
     "inputWidgets": {},
     "nuid": "df5e2afa-7047-4ba1-ac54-156d0336afdb",
     "showTitle": false,
     "tableResultSettingsMap": {},
     "title": ""
    }
   },
   "outputs": [],
   "source": [
    "df.write.mode(\"overwrite\").saveAsTable('projeto_data_eng.02_silver_layer.recebidos_parcelado')"
   ]
  },
  {
   "cell_type": "code",
   "execution_count": 0,
   "metadata": {
    "application/vnd.databricks.v1+cell": {
     "cellMetadata": {
      "byteLimit": 2048000,
      "rowLimit": 10000
     },
     "inputWidgets": {},
     "nuid": "7e1fdb6f-2aad-46b8-9c69-4c016e9de88d",
     "showTitle": false,
     "tableResultSettingsMap": {},
     "title": ""
    }
   },
   "outputs": [],
   "source": [
    "df=spark.read.table('projeto_data_eng.02_silver_layer.recebidos_parcelado')\n",
    "display(df)"
   ]
  }
 ],
 "metadata": {
  "application/vnd.databricks.v1+notebook": {
   "computePreferences": null,
   "dashboards": [],
   "environmentMetadata": {
    "base_environment": "",
    "environment_version": "4"
   },
   "inputWidgetPreferences": null,
   "language": "python",
   "notebookMetadata": {
    "pythonIndentUnit": 4
   },
   "notebookName": "bronze_to_silver_recebidos_parcelado_raw",
   "widgets": {}
  },
  "language_info": {
   "name": "python"
  }
 },
 "nbformat": 4,
 "nbformat_minor": 0
}
