{
 "cells": [
  {
   "cell_type": "code",
   "execution_count": 0,
   "metadata": {
    "application/vnd.databricks.v1+cell": {
     "cellMetadata": {
      "byteLimit": 2048000,
      "rowLimit": 10000
     },
     "inputWidgets": {},
     "nuid": "04563492-0036-4335-a46f-c338f1cca3e9",
     "showTitle": false,
     "tableResultSettingsMap": {},
     "title": ""
    }
   },
   "outputs": [],
   "source": [
    "df = spark.read.table('projeto_data_eng.01_bronze_layer.clientes_raw')\n",
    "\n",
    "display(df)"
   ]
  },
  {
   "cell_type": "code",
   "execution_count": 0,
   "metadata": {
    "application/vnd.databricks.v1+cell": {
     "cellMetadata": {
      "byteLimit": 2048000,
      "rowLimit": 10000
     },
     "inputWidgets": {},
     "nuid": "dc870e09-a60a-4606-af06-c226d33374a0",
     "showTitle": false,
     "tableResultSettingsMap": {},
     "title": ""
    }
   },
   "outputs": [],
   "source": [
    "from pyspark.sql.functions import col, regexp_replace, count\n",
    "df = df.withColumn(\n",
    "    \"CPF_MASCARADO\",\n",
    "    regexp_replace(col(\"CGC_CPF\"), r\"\\d(?=\\d)\", \"X\")\n",
    ")"
   ]
  },
  {
   "cell_type": "code",
   "execution_count": 0,
   "metadata": {
    "application/vnd.databricks.v1+cell": {
     "cellMetadata": {
      "byteLimit": 2048000,
      "rowLimit": 10000
     },
     "inputWidgets": {},
     "nuid": "71afb3d0-736a-45ca-9831-475d817ff1a0",
     "showTitle": false,
     "tableResultSettingsMap": {
      "0": {
       "dataGridStateBlob": "{\"version\":1,\"tableState\":{\"columnPinning\":{\"left\":[\"#row_number#\"],\"right\":[]},\"columnSizing\":{},\"columnVisibility\":{}},\"settings\":{\"columns\":{}},\"syncTimestamp\":1761678756616}",
       "filterBlob": null,
       "queryPlanFiltersBlob": null,
       "tableResultIndex": 0
      }
     },
     "title": ""
    }
   },
   "outputs": [],
   "source": [
    "df = df.drop(\n",
    "    'CODIGO', 'F_OU_J',\"CGC_CPF\", 'INSC_RG', 'CLIENTE','CEP','ENDERECO', 'FORNECEDOR', 'PRESTADOR', \n",
    "    'VR_LIMITE', 'OBS1', 'BANCO', 'AGENCIA', 'CONTA', 'FONE2', 'FAX', \n",
    "    'CELULAR', 'BANCO2', 'AGENCIA2', 'CONTA2', 'TRANSMISSAO', 'ONDE_TRABALHA', \n",
    "    'ADMISSAO', 'RENDA_MES', 'CAIXA_POSTAL', 'CLASSE', 'PAI', 'MAE', 'CONJUGE', \n",
    "    'QTDE_DEPENDENTES', 'END_TRAB', 'FONE_TRAB', 'NOME_REF_1', 'FONE_REF_1', \n",
    "    'NOME_REF_2', 'FONE_REF_2', 'PARENTESCO_FIA', 'CPF_FIA', 'RG_FIA', 'FONE_FIA', \n",
    "    'ENDERECO_FIA', 'BAIRRO_FIA', 'CIDADE_FIA', 'CEP_FIA', 'ESTADO_FIA', \n",
    "    'PROFISSAO_FIA', 'RENDA_FIA', 'MODIFICADO', 'USUARIO', 'LOJA', 'NUM_FICHA', \n",
    "    'DEPENDENTE', 'TITULAR', 'NUM_CONVENIO', 'NAO_AUTORIZADO', 'DT_NASC_FIA', \n",
    "    'NUM_BLOQUEIO', 'DATA_BLOQUEIO', 'USU_BLOQUEIO', 'HIST_BLOQUEIO', \n",
    "    'COD_MUNICIPIO', 'COD_UF', 'COD_VENDEDOR', 'CLIENTE_PRAMELHOR', \n",
    "    'USU_CADASTRO', 'COD_PRAMELHOR', 'CNPJ_CPF_VALIDO', 'INDICACAO', 'PROFISSAO', \n",
    "    'SEXO_M_F', 'CODIGO_CLIENTE', 'DATA_DEP_EXCLUIDO', 'TITULAR_DEP_EXCLUIDO', \n",
    "    'DT_NASCIMENTO_DEP', 'CODIGO_VALIDADE', 'NOME_VALIDADE', 'DATA_VALIDADE', \n",
    "    'USUARIO_VALIDADE', 'OBS_VALIDADE', 'CODIGO_INDICACAO', 'CPF_INDICACAO', \n",
    "    'CATEGORIA', 'COMPLEMENTO', 'INSTITUTO_ODC', 'LGPD_USUARIO', 'LGPD_DATA_HORA', \n",
    "    'LGPD_CPF', 'LGPD_TELEFONE', 'LGPD_MENSAGEM', 'LGPD_IMAGEM', 'PROTETICO', \n",
    "    'PROTETICO_ATIVO', 'PROTETICO_DATA', 'PROTETICO_USUARIO', 'PROTETICO_MOTIVO', \n",
    "    'PROTETICO_OBSERVACAO', 'DT_AXON', 'AXON_ID', 'ID_DRCASH', 'DATA_APROVACAO_DRCASH', \n",
    "    'VALOR_MAXIMO_DRCASH', 'ID_PAGO_LIVRE', 'NUM_ENDERECO', 'NOME_FIA','cpf_fake'\n",
    ")\n",
    "display(df)"
   ]
  },
  {
   "cell_type": "code",
   "execution_count": 0,
   "metadata": {
    "application/vnd.databricks.v1+cell": {
     "cellMetadata": {
      "byteLimit": 2048000,
      "rowLimit": 10000
     },
     "inputWidgets": {},
     "nuid": "511170b6-70a0-43f7-811a-2f6bad7d9423",
     "showTitle": false,
     "tableResultSettingsMap": {},
     "title": ""
    }
   },
   "outputs": [],
   "source": [
    "df = (\n",
    "    df.withColumnRenamed('DT_CADASTRO', 'DATA_CADASTRO')\n",
    "      .withColumnRenamed('DT_ULTMOV', 'DATA_ULTIMO_MOVIMENTO')\n",
    "      .withColumnRenamed('DT_NASCIMENTO', 'DATA_NASCIMENTO')\n",
    "      .withColumnRenamed('FONE1', 'FONE')\n",
    "      .withColumnRenamed('FUNCAO', 'CANAL_AQUISICAO')\n",
    "      .withColumnRenamed(\"CPF_MASCARADO\", \"CPF\")\n",
    ")"
   ]
  },
  {
   "cell_type": "code",
   "execution_count": 0,
   "metadata": {
    "application/vnd.databricks.v1+cell": {
     "cellMetadata": {
      "byteLimit": 2048000,
      "rowLimit": 10000
     },
     "inputWidgets": {},
     "nuid": "753b0cda-23f7-46ee-87d2-04e135668250",
     "showTitle": false,
     "tableResultSettingsMap": {},
     "title": ""
    }
   },
   "outputs": [],
   "source": [
    "df_duplicados = (\n",
    "    df.groupBy(\"CPF\", \"DATA_NASCIMENTO\")\n",
    "      .agg(count(\"*\").alias(\"qtde\"))\n",
    "      .filter(\"qtde > 1\")\n",
    ")\n",
    "display(df_duplicados)\n",
    "\n",
    "## Filtragem de dados duplicados\n",
    "## A coluna CPF teve os dados mascarados para não expor informações reais dos clientes, sendo assim, alguns valores ficaram duplicados."
   ]
  },
  {
   "cell_type": "code",
   "execution_count": 0,
   "metadata": {
    "application/vnd.databricks.v1+cell": {
     "cellMetadata": {
      "byteLimit": 2048000,
      "rowLimit": 10000
     },
     "inputWidgets": {},
     "nuid": "3eeb318e-234f-45df-b9bd-9242e820686c",
     "showTitle": false,
     "tableResultSettingsMap": {},
     "title": ""
    }
   },
   "outputs": [],
   "source": [
    "strings_nulos = ['NULL', 'null', \"\"]\n",
    "df = df.replace(to_replace=strings_nulos, value=None)\n",
    "\n",
    "df = df.fillna({\n",
    "    'EMAIL': 'NAO INFORMADO',\n",
    "    'CANAL_AQUISICAO': 'NAO INFORMADO'\n",
    "})"
   ]
  },
  {
   "cell_type": "code",
   "execution_count": 0,
   "metadata": {
    "application/vnd.databricks.v1+cell": {
     "cellMetadata": {
      "byteLimit": 2048000,
      "rowLimit": 10000
     },
     "inputWidgets": {},
     "nuid": "cfd43ddf-2e27-4c14-a861-1bddfd5ce3e2",
     "showTitle": false,
     "tableResultSettingsMap": {},
     "title": ""
    }
   },
   "outputs": [],
   "source": [
    "for coluna in df.columns:\n",
    "    count_nulos = df.filter(df[coluna].isNull()).count()\n",
    "    print(coluna, count_nulos)"
   ]
  },
  {
   "cell_type": "code",
   "execution_count": 0,
   "metadata": {
    "application/vnd.databricks.v1+cell": {
     "cellMetadata": {
      "byteLimit": 2048000,
      "rowLimit": 10000
     },
     "inputWidgets": {},
     "nuid": "17db7108-adcb-4bfc-9d57-4de0fe3579c6",
     "showTitle": false,
     "tableResultSettingsMap": {},
     "title": ""
    }
   },
   "outputs": [],
   "source": [
    "ordem_colunas = ['NOME','CPF','DATA_CADASTRO','CANAL_AQUISICAO','ESTADO','CIDADE','BAIRRO','EMAIL','FONE','DATA_NASCIMENTO','DATA_ULTIMO_MOVIMENTO']\n",
    "\n",
    "df= df.select(*ordem_colunas)\n",
    "display(df)"
   ]
  },
  {
   "cell_type": "code",
   "execution_count": 0,
   "metadata": {
    "application/vnd.databricks.v1+cell": {
     "cellMetadata": {
      "byteLimit": 2048000,
      "rowLimit": 10000
     },
     "inputWidgets": {},
     "nuid": "36fef1a8-3804-4d5b-9d7a-4a7f76dab1f4",
     "showTitle": false,
     "tableResultSettingsMap": {},
     "title": ""
    }
   },
   "outputs": [],
   "source": [
    "df.write.mode(\"overwrite\").saveAsTable('projeto_data_eng.02_silver_layer.clientes')"
   ]
  },
  {
   "cell_type": "code",
   "execution_count": 0,
   "metadata": {
    "application/vnd.databricks.v1+cell": {
     "cellMetadata": {
      "byteLimit": 2048000,
      "rowLimit": 10000
     },
     "inputWidgets": {},
     "nuid": "50930891-951b-4689-8611-a5f0b7e99a9c",
     "showTitle": false,
     "tableResultSettingsMap": {},
     "title": ""
    }
   },
   "outputs": [],
   "source": [
    "df=spark.read.table('projeto_data_eng.02_silver_layer.clientes')\n",
    "display(df)"
   ]
  }
 ],
 "metadata": {
  "application/vnd.databricks.v1+notebook": {
   "computePreferences": null,
   "dashboards": [],
   "environmentMetadata": {
    "base_environment": "",
    "environment_version": "4"
   },
   "inputWidgetPreferences": null,
   "language": "python",
   "notebookMetadata": {
    "pythonIndentUnit": 4
   },
   "notebookName": "bronze_to_silver_clientes_raw",
   "widgets": {}
  },
  "language_info": {
   "name": "python"
  }
 },
 "nbformat": 4,
 "nbformat_minor": 0
}
