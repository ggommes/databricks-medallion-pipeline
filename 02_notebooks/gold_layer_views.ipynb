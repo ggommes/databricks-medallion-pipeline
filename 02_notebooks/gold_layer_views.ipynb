{
 "cells": [
  {
   "cell_type": "code",
   "execution_count": 0,
   "metadata": {
    "application/vnd.databricks.v1+cell": {
     "cellMetadata": {
      "byteLimit": 2048000,
      "implicitDf": true,
      "rowLimit": 10000
     },
     "inputWidgets": {},
     "nuid": "29dd9f67-6cb9-4d53-a809-9eaf4afc775f",
     "showTitle": false,
     "tableResultSettingsMap": {},
     "title": ""
    }
   },
   "outputs": [],
   "source": [
    "%sql\n",
    "\n",
    "CREATE OR REPLACE VIEW projeto_data_eng.`03_gold_layer`.contagem_leads AS\n",
    "SELECT\n",
    "    count(CANAL_AQUISICAO) as CONTAGEM_LEADS,\n",
    "    CANAL_AQUISICAO\n",
    "FROM\n",
    "   projeto_data_eng.`02_silver_layer`.clientes\n",
    "GROUP BY \n",
    "    CANAL_AQUISICAO;\n"
   ]
  },
  {
   "cell_type": "code",
   "execution_count": 0,
   "metadata": {
    "application/vnd.databricks.v1+cell": {
     "cellMetadata": {
      "byteLimit": 2048000,
      "implicitDf": true,
      "rowLimit": 10000
     },
     "inputWidgets": {},
     "nuid": "d6f1438a-5b78-40bf-bdac-da13a2d0961c",
     "showTitle": false,
     "tableResultSettingsMap": {},
     "title": ""
    }
   },
   "outputs": [],
   "source": [
    "%sql\n",
    "CREATE OR REPLACE VIEW projeto_data_eng.`03_gold_layer`.receita_mensal AS\n",
    "SELECT\n",
    "    date_trunc('month', DATA_VENDA) AS mes,\n",
    "    SUM(VR_BRUTO) AS receita_total\n",
    "FROM\n",
    "    projeto_data_eng.`02_silver_layer`.recebidos_a_vista\n",
    "GROUP BY\n",
    "    date_trunc('month', DATA_VENDA)\n",
    "ORDER BY\n",
    "    mes"
   ]
  },
  {
   "cell_type": "code",
   "execution_count": 0,
   "metadata": {
    "application/vnd.databricks.v1+cell": {
     "cellMetadata": {
      "byteLimit": 2048000,
      "implicitDf": true,
      "rowLimit": 10000
     },
     "inputWidgets": {},
     "nuid": "d3c8ee14-11d8-40df-ba4d-b038cfeaa8d0",
     "showTitle": false,
     "tableResultSettingsMap": {},
     "title": ""
    }
   },
   "outputs": [],
   "source": [
    "%sql\n",
    "CREATE OR REPLACE VIEW projeto_data_eng.`03_gold_layer`.receita_liquida_mensal AS\n",
    "SELECT\n",
    "    date_trunc('month', DATA_VENDA) AS mes,\n",
    "    SUM(VR_LIQUIDO) AS receita_liquida_total,\n",
    "    AVG(VR_LIQUIDO) AS receita_liquida_media\n",
    "FROM\n",
    "    projeto_data_eng.`02_silver_layer`.recebidos_a_vista\n",
    "GROUP BY\n",
    "    date_trunc('month', DATA_VENDA)\n",
    "ORDER BY\n",
    "    mes"
   ]
  }
 ],
 "metadata": {
  "application/vnd.databricks.v1+notebook": {
   "computePreferences": null,
   "dashboards": [],
   "environmentMetadata": {
    "base_environment": "",
    "environment_version": "4"
   },
   "inputWidgetPreferences": null,
   "language": "python",
   "notebookMetadata": {
    "mostRecentlyExecutedCommandWithImplicitDF": {
     "commandId": 5771246499392966,
     "dataframes": [
      "_sqldf"
     ]
    },
    "pythonIndentUnit": 4
   },
   "notebookName": "gold_layer_views",
   "widgets": {}
  },
  "language_info": {
   "name": "python"
  }
 },
 "nbformat": 4,
 "nbformat_minor": 0
}
